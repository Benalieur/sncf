{
 "cells": [
  {
   "cell_type": "code",
   "execution_count": 1,
   "metadata": {},
   "outputs": [],
   "source": [
    "import mysql.connector as connector\n",
    "import pandas as pd\n",
    "import sqlalchemy\n",
    "import seaborn as sns\n",
    "import matplotlib.pyplot as plt"
   ]
  },
  {
   "cell_type": "code",
   "execution_count": 2,
   "metadata": {},
   "outputs": [],
   "source": [
    "conn = connector.connect(\n",
    "  host=\"localhost\",\n",
    "  user=\"CodeBenji\",\n",
    "  password=\"Code!12345\",\n",
    "  database=\"sncf_meteo\"\n",
    ")"
   ]
  },
  {
   "cell_type": "code",
   "execution_count": 3,
   "metadata": {},
   "outputs": [
    {
     "name": "stderr",
     "output_type": "stream",
     "text": [
      "/tmp/ipykernel_220150/1129881420.py:1: UserWarning: pandas only supports SQLAlchemy connectable (engine/connection) or database string URI or sqlite3 DBAPI2 connection. Other DBAPI2 objects are not tested. Please consider using SQLAlchemy.\n",
      "  objets_perdus = pd.read_sql(\"SELECT * FROM ObjetsPerdus\", conn)\n",
      "/tmp/ipykernel_220150/1129881420.py:2: UserWarning: pandas only supports SQLAlchemy connectable (engine/connection) or database string URI or sqlite3 DBAPI2 connection. Other DBAPI2 objects are not tested. Please consider using SQLAlchemy.\n",
      "  frequentations = pd.read_sql(\"SELECT * FROM Frequentations\", conn)\n",
      "/tmp/ipykernel_220150/1129881420.py:3: UserWarning: pandas only supports SQLAlchemy connectable (engine/connection) or database string URI or sqlite3 DBAPI2 connection. Other DBAPI2 objects are not tested. Please consider using SQLAlchemy.\n",
      "  meteos = pd.read_sql(\"SELECT * FROM Meteos\", conn)\n"
     ]
    }
   ],
   "source": [
    "objets_perdus = pd.read_sql(\"SELECT * FROM ObjetsPerdus\", conn)\n",
    "frequentations = pd.read_sql(\"SELECT * FROM Frequentations\", conn)\n",
    "meteos = pd.read_sql(\"SELECT * FROM Meteos\", conn)"
   ]
  },
  {
   "cell_type": "code",
   "execution_count": 4,
   "metadata": {},
   "outputs": [
    {
     "data": {
      "text/html": [
       "<div>\n",
       "<style scoped>\n",
       "    .dataframe tbody tr th:only-of-type {\n",
       "        vertical-align: middle;\n",
       "    }\n",
       "\n",
       "    .dataframe tbody tr th {\n",
       "        vertical-align: top;\n",
       "    }\n",
       "\n",
       "    .dataframe thead th {\n",
       "        text-align: right;\n",
       "    }\n",
       "</style>\n",
       "<table border=\"1\" class=\"dataframe\">\n",
       "  <thead>\n",
       "    <tr style=\"text-align: right;\">\n",
       "      <th></th>\n",
       "      <th>id</th>\n",
       "      <th>type_objet</th>\n",
       "      <th>gare</th>\n",
       "      <th>nature_objet</th>\n",
       "    </tr>\n",
       "    <tr>\n",
       "      <th>date</th>\n",
       "      <th></th>\n",
       "      <th></th>\n",
       "      <th></th>\n",
       "      <th></th>\n",
       "    </tr>\n",
       "  </thead>\n",
       "  <tbody>\n",
       "    <tr>\n",
       "      <th>2017-12-31 22:25:22</th>\n",
       "      <td>0087484006</td>\n",
       "      <td>Vêtements, chaussures</td>\n",
       "      <td>Angers Saint-Laud</td>\n",
       "      <td>Foulard, écharpe</td>\n",
       "    </tr>\n",
       "    <tr>\n",
       "      <th>2017-12-31 21:22:31</th>\n",
       "      <td>0087484006</td>\n",
       "      <td>Pièces d'identités et papiers personnels</td>\n",
       "      <td>Angers Saint-Laud</td>\n",
       "      <td>Carte d'identité, passeport, permis de conduire</td>\n",
       "    </tr>\n",
       "    <tr>\n",
       "      <th>2017-12-31 20:59:09</th>\n",
       "      <td>0087485003</td>\n",
       "      <td>Divers</td>\n",
       "      <td>La Rochelle</td>\n",
       "      <td>Autres divers</td>\n",
       "    </tr>\n",
       "    <tr>\n",
       "      <th>2017-12-31 20:55:56</th>\n",
       "      <td>0087485003</td>\n",
       "      <td>Appareils électroniques, informatiques, appare...</td>\n",
       "      <td>La Rochelle</td>\n",
       "      <td>Appareil audio portable (lecteur de CD, balade...</td>\n",
       "    </tr>\n",
       "    <tr>\n",
       "      <th>2017-12-31 20:52:33</th>\n",
       "      <td>0087485003</td>\n",
       "      <td>Divers</td>\n",
       "      <td>La Rochelle</td>\n",
       "      <td>Autres divers</td>\n",
       "    </tr>\n",
       "    <tr>\n",
       "      <th>...</th>\n",
       "      <td>...</td>\n",
       "      <td>...</td>\n",
       "      <td>...</td>\n",
       "      <td>...</td>\n",
       "    </tr>\n",
       "    <tr>\n",
       "      <th>2021-12-01 07:24:00</th>\n",
       "      <td>0087683268</td>\n",
       "      <td>Articles médicaux</td>\n",
       "      <td>Laroche - Migennes</td>\n",
       "      <td>Radiographie</td>\n",
       "    </tr>\n",
       "    <tr>\n",
       "      <th>2021-12-01 07:11:54</th>\n",
       "      <td>0087212027</td>\n",
       "      <td>Bagagerie: sacs, valises, cartables</td>\n",
       "      <td>Strasbourg</td>\n",
       "      <td>Sac de voyage, sac de sport, sac à bandoulière</td>\n",
       "    </tr>\n",
       "    <tr>\n",
       "      <th>2021-12-01 05:44:51</th>\n",
       "      <td>0087411017</td>\n",
       "      <td>Clés, porte-clés, badge magnétique</td>\n",
       "      <td>Rouen Rive Droite</td>\n",
       "      <td>Clés, porte-clés</td>\n",
       "    </tr>\n",
       "    <tr>\n",
       "      <th>2021-12-01 05:25:12</th>\n",
       "      <td>0087723197</td>\n",
       "      <td>Appareils électroniques, informatiques, appare...</td>\n",
       "      <td>Lyon Part Dieu</td>\n",
       "      <td>AirPod, casque audio, écouteurs</td>\n",
       "    </tr>\n",
       "    <tr>\n",
       "      <th>2021-12-01 05:17:06</th>\n",
       "      <td>0087723197</td>\n",
       "      <td>Clés, porte-clés, badge magnétique</td>\n",
       "      <td>Lyon Part Dieu</td>\n",
       "      <td>Clé de voiture</td>\n",
       "    </tr>\n",
       "  </tbody>\n",
       "</table>\n",
       "<p>295171 rows × 4 columns</p>\n",
       "</div>"
      ],
      "text/plain": [
       "                             id  \\\n",
       "date                              \n",
       "2017-12-31 22:25:22  0087484006   \n",
       "2017-12-31 21:22:31  0087484006   \n",
       "2017-12-31 20:59:09  0087485003   \n",
       "2017-12-31 20:55:56  0087485003   \n",
       "2017-12-31 20:52:33  0087485003   \n",
       "...                         ...   \n",
       "2021-12-01 07:24:00  0087683268   \n",
       "2021-12-01 07:11:54  0087212027   \n",
       "2021-12-01 05:44:51  0087411017   \n",
       "2021-12-01 05:25:12  0087723197   \n",
       "2021-12-01 05:17:06  0087723197   \n",
       "\n",
       "                                                            type_objet  \\\n",
       "date                                                                     \n",
       "2017-12-31 22:25:22                              Vêtements, chaussures   \n",
       "2017-12-31 21:22:31           Pièces d'identités et papiers personnels   \n",
       "2017-12-31 20:59:09                                             Divers   \n",
       "2017-12-31 20:55:56  Appareils électroniques, informatiques, appare...   \n",
       "2017-12-31 20:52:33                                             Divers   \n",
       "...                                                                ...   \n",
       "2021-12-01 07:24:00                                  Articles médicaux   \n",
       "2021-12-01 07:11:54                Bagagerie: sacs, valises, cartables   \n",
       "2021-12-01 05:44:51                 Clés, porte-clés, badge magnétique   \n",
       "2021-12-01 05:25:12  Appareils électroniques, informatiques, appare...   \n",
       "2021-12-01 05:17:06                 Clés, porte-clés, badge magnétique   \n",
       "\n",
       "                                   gare  \\\n",
       "date                                      \n",
       "2017-12-31 22:25:22   Angers Saint-Laud   \n",
       "2017-12-31 21:22:31   Angers Saint-Laud   \n",
       "2017-12-31 20:59:09         La Rochelle   \n",
       "2017-12-31 20:55:56         La Rochelle   \n",
       "2017-12-31 20:52:33         La Rochelle   \n",
       "...                                 ...   \n",
       "2021-12-01 07:24:00  Laroche - Migennes   \n",
       "2021-12-01 07:11:54          Strasbourg   \n",
       "2021-12-01 05:44:51   Rouen Rive Droite   \n",
       "2021-12-01 05:25:12      Lyon Part Dieu   \n",
       "2021-12-01 05:17:06      Lyon Part Dieu   \n",
       "\n",
       "                                                          nature_objet  \n",
       "date                                                                    \n",
       "2017-12-31 22:25:22                                   Foulard, écharpe  \n",
       "2017-12-31 21:22:31    Carte d'identité, passeport, permis de conduire  \n",
       "2017-12-31 20:59:09                                      Autres divers  \n",
       "2017-12-31 20:55:56  Appareil audio portable (lecteur de CD, balade...  \n",
       "2017-12-31 20:52:33                                      Autres divers  \n",
       "...                                                                ...  \n",
       "2021-12-01 07:24:00                                       Radiographie  \n",
       "2021-12-01 07:11:54     Sac de voyage, sac de sport, sac à bandoulière  \n",
       "2021-12-01 05:44:51                                   Clés, porte-clés  \n",
       "2021-12-01 05:25:12                    AirPod, casque audio, écouteurs  \n",
       "2021-12-01 05:17:06                                     Clé de voiture  \n",
       "\n",
       "[295171 rows x 4 columns]"
      ]
     },
     "execution_count": 4,
     "metadata": {},
     "output_type": "execute_result"
    }
   ],
   "source": [
    "objets_perdus[\"date\"] = pd.to_datetime(objets_perdus[\"date\"])\n",
    "objets_perdus.set_index(\"date\", inplace=True)\n",
    "\n",
    "objets_perdus"
   ]
  },
  {
   "cell_type": "code",
   "execution_count": 5,
   "metadata": {},
   "outputs": [
    {
     "data": {
      "text/plain": [
       "168"
      ]
     },
     "execution_count": 5,
     "metadata": {},
     "output_type": "execute_result"
    }
   ],
   "source": [
    "objets_perdus['id'].nunique()"
   ]
  },
  {
   "cell_type": "code",
   "execution_count": 6,
   "metadata": {},
   "outputs": [
    {
     "data": {
      "text/plain": [
       "Paris Gare de Lyon      24519\n",
       "Paris Montparnasse      23322\n",
       "Paris Gare du Nord      16329\n",
       "Bordeaux Saint-Jean     13058\n",
       "Paris Saint-Lazare      12128\n",
       "                        ...  \n",
       "Coutances                   3\n",
       "Abbeville                   1\n",
       "Étaples - Le Touquet        1\n",
       "Alençon                     1\n",
       "Yvetot                      1\n",
       "Name: gare, Length: 168, dtype: int64"
      ]
     },
     "execution_count": 6,
     "metadata": {},
     "output_type": "execute_result"
    }
   ],
   "source": [
    "objets_perdus['gare'].value_counts()"
   ]
  },
  {
   "cell_type": "code",
   "execution_count": 7,
   "metadata": {},
   "outputs": [
    {
     "data": {
      "text/plain": [
       "DatetimeIndex(['2017-12-31 22:25:22', '2017-12-31 21:22:31',\n",
       "               '2017-12-31 20:59:09', '2017-12-31 20:55:56',\n",
       "               '2017-12-31 20:52:33', '2017-12-31 20:37:26',\n",
       "               '2017-12-31 20:24:23', '2017-12-31 20:06:12',\n",
       "               '2017-12-31 19:31:06', '2017-12-31 19:25:17',\n",
       "               ...\n",
       "               '2021-12-01 07:58:37', '2021-12-01 07:55:19',\n",
       "               '2021-12-01 07:53:04', '2021-12-01 07:47:58',\n",
       "               '2021-12-01 07:36:22', '2021-12-01 07:24:00',\n",
       "               '2021-12-01 07:11:54', '2021-12-01 05:44:51',\n",
       "               '2021-12-01 05:25:12', '2021-12-01 05:17:06'],\n",
       "              dtype='datetime64[ns]', name='date', length=295171, freq=None)"
      ]
     },
     "execution_count": 7,
     "metadata": {},
     "output_type": "execute_result"
    }
   ],
   "source": [
    "objets_perdus.index"
   ]
  },
  {
   "cell_type": "code",
   "execution_count": 8,
   "metadata": {},
   "outputs": [
    {
     "data": {
      "text/html": [
       "<div>\n",
       "<style scoped>\n",
       "    .dataframe tbody tr th:only-of-type {\n",
       "        vertical-align: middle;\n",
       "    }\n",
       "\n",
       "    .dataframe tbody tr th {\n",
       "        vertical-align: top;\n",
       "    }\n",
       "\n",
       "    .dataframe thead th {\n",
       "        text-align: right;\n",
       "    }\n",
       "</style>\n",
       "<table border=\"1\" class=\"dataframe\">\n",
       "  <thead>\n",
       "    <tr style=\"text-align: right;\">\n",
       "      <th></th>\n",
       "      <th>type_objet</th>\n",
       "    </tr>\n",
       "    <tr>\n",
       "      <th>date</th>\n",
       "      <th></th>\n",
       "    </tr>\n",
       "  </thead>\n",
       "  <tbody>\n",
       "    <tr>\n",
       "      <th>2017-12-03</th>\n",
       "      <td>105</td>\n",
       "    </tr>\n",
       "    <tr>\n",
       "      <th>2017-12-10</th>\n",
       "      <td>1791</td>\n",
       "    </tr>\n",
       "    <tr>\n",
       "      <th>2017-12-17</th>\n",
       "      <td>1831</td>\n",
       "    </tr>\n",
       "    <tr>\n",
       "      <th>2017-12-24</th>\n",
       "      <td>1885</td>\n",
       "    </tr>\n",
       "    <tr>\n",
       "      <th>2017-12-31</th>\n",
       "      <td>1718</td>\n",
       "    </tr>\n",
       "    <tr>\n",
       "      <th>...</th>\n",
       "      <td>...</td>\n",
       "    </tr>\n",
       "    <tr>\n",
       "      <th>2021-12-05</th>\n",
       "      <td>1277</td>\n",
       "    </tr>\n",
       "    <tr>\n",
       "      <th>2021-12-12</th>\n",
       "      <td>1358</td>\n",
       "    </tr>\n",
       "    <tr>\n",
       "      <th>2021-12-19</th>\n",
       "      <td>1462</td>\n",
       "    </tr>\n",
       "    <tr>\n",
       "      <th>2021-12-26</th>\n",
       "      <td>1300</td>\n",
       "    </tr>\n",
       "    <tr>\n",
       "      <th>2022-01-02</th>\n",
       "      <td>1033</td>\n",
       "    </tr>\n",
       "  </tbody>\n",
       "</table>\n",
       "<p>214 rows × 1 columns</p>\n",
       "</div>"
      ],
      "text/plain": [
       "            type_objet\n",
       "date                  \n",
       "2017-12-03         105\n",
       "2017-12-10        1791\n",
       "2017-12-17        1831\n",
       "2017-12-24        1885\n",
       "2017-12-31        1718\n",
       "...                ...\n",
       "2021-12-05        1277\n",
       "2021-12-12        1358\n",
       "2021-12-19        1462\n",
       "2021-12-26        1300\n",
       "2022-01-02        1033\n",
       "\n",
       "[214 rows x 1 columns]"
      ]
     },
     "execution_count": 8,
     "metadata": {},
     "output_type": "execute_result"
    }
   ],
   "source": [
    "objets_semaine = objets_perdus.groupby(pd.Grouper(freq='W')).count()\n",
    "\n",
    "objets_semaine.drop(['id', 'gare', 'nature_objet'], axis=1, inplace=True)\n",
    "\n",
    "objets_semaine"
   ]
  },
  {
   "cell_type": "code",
   "execution_count": 9,
   "metadata": {},
   "outputs": [
    {
     "data": {
      "text/plain": [
       "214"
      ]
     },
     "execution_count": 9,
     "metadata": {},
     "output_type": "execute_result"
    }
   ],
   "source": [
    "len(objets_semaine)"
   ]
  },
  {
   "cell_type": "code",
   "execution_count": 10,
   "metadata": {},
   "outputs": [
    {
     "data": {
      "text/plain": [
       "<AxesSubplot: ylabel='Count'>"
      ]
     },
     "execution_count": 10,
     "metadata": {},
     "output_type": "execute_result"
    },
    {
     "data": {
      "image/png": "[encoded data removed]",
      "text/plain": [
       "<Figure size 640x480 with 1 Axes>"
      ]
     },
     "metadata": {},
     "output_type": "display_data"
    }
   ],
   "source": [
    "sns.histplot(data=objets_semaine)"
   ]
  },
  {
   "cell_type": "code",
   "execution_count": 11,
   "metadata": {},
   "outputs": [
    {
     "data": {
      "text/html": [
       "<div>\n",
       "<style scoped>\n",
       "    .dataframe tbody tr th:only-of-type {\n",
       "        vertical-align: middle;\n",
       "    }\n",
       "\n",
       "    .dataframe tbody tr th {\n",
       "        vertical-align: top;\n",
       "    }\n",
       "\n",
       "    .dataframe thead th {\n",
       "        text-align: right;\n",
       "    }\n",
       "</style>\n",
       "<table border=\"1\" class=\"dataframe\">\n",
       "  <thead>\n",
       "    <tr style=\"text-align: right;\">\n",
       "      <th></th>\n",
       "      <th>id</th>\n",
       "      <th>type_objet</th>\n",
       "      <th>gare</th>\n",
       "      <th>nature_objet</th>\n",
       "    </tr>\n",
       "    <tr>\n",
       "      <th>date</th>\n",
       "      <th></th>\n",
       "      <th></th>\n",
       "      <th></th>\n",
       "      <th></th>\n",
       "    </tr>\n",
       "  </thead>\n",
       "  <tbody>\n",
       "    <tr>\n",
       "      <th>2017-12</th>\n",
       "      <td>0087484006</td>\n",
       "      <td>Vêtements, chaussures</td>\n",
       "      <td>Angers Saint-Laud</td>\n",
       "      <td>Foulard, écharpe</td>\n",
       "    </tr>\n",
       "    <tr>\n",
       "      <th>2017-12</th>\n",
       "      <td>0087484006</td>\n",
       "      <td>Pièces d'identités et papiers personnels</td>\n",
       "      <td>Angers Saint-Laud</td>\n",
       "      <td>Carte d'identité, passeport, permis de conduire</td>\n",
       "    </tr>\n",
       "    <tr>\n",
       "      <th>2017-12</th>\n",
       "      <td>0087485003</td>\n",
       "      <td>Divers</td>\n",
       "      <td>La Rochelle</td>\n",
       "      <td>Autres divers</td>\n",
       "    </tr>\n",
       "    <tr>\n",
       "      <th>2017-12</th>\n",
       "      <td>0087485003</td>\n",
       "      <td>Appareils électroniques, informatiques, appare...</td>\n",
       "      <td>La Rochelle</td>\n",
       "      <td>Appareil audio portable (lecteur de CD, balade...</td>\n",
       "    </tr>\n",
       "    <tr>\n",
       "      <th>2017-12</th>\n",
       "      <td>0087485003</td>\n",
       "      <td>Divers</td>\n",
       "      <td>La Rochelle</td>\n",
       "      <td>Autres divers</td>\n",
       "    </tr>\n",
       "    <tr>\n",
       "      <th>...</th>\n",
       "      <td>...</td>\n",
       "      <td>...</td>\n",
       "      <td>...</td>\n",
       "      <td>...</td>\n",
       "    </tr>\n",
       "    <tr>\n",
       "      <th>2021-12</th>\n",
       "      <td>0087683268</td>\n",
       "      <td>Articles médicaux</td>\n",
       "      <td>Laroche - Migennes</td>\n",
       "      <td>Radiographie</td>\n",
       "    </tr>\n",
       "    <tr>\n",
       "      <th>2021-12</th>\n",
       "      <td>0087212027</td>\n",
       "      <td>Bagagerie: sacs, valises, cartables</td>\n",
       "      <td>Strasbourg</td>\n",
       "      <td>Sac de voyage, sac de sport, sac à bandoulière</td>\n",
       "    </tr>\n",
       "    <tr>\n",
       "      <th>2021-12</th>\n",
       "      <td>0087411017</td>\n",
       "      <td>Clés, porte-clés, badge magnétique</td>\n",
       "      <td>Rouen Rive Droite</td>\n",
       "      <td>Clés, porte-clés</td>\n",
       "    </tr>\n",
       "    <tr>\n",
       "      <th>2021-12</th>\n",
       "      <td>0087723197</td>\n",
       "      <td>Appareils électroniques, informatiques, appare...</td>\n",
       "      <td>Lyon Part Dieu</td>\n",
       "      <td>AirPod, casque audio, écouteurs</td>\n",
       "    </tr>\n",
       "    <tr>\n",
       "      <th>2021-12</th>\n",
       "      <td>0087723197</td>\n",
       "      <td>Clés, porte-clés, badge magnétique</td>\n",
       "      <td>Lyon Part Dieu</td>\n",
       "      <td>Clé de voiture</td>\n",
       "    </tr>\n",
       "  </tbody>\n",
       "</table>\n",
       "<p>295171 rows × 4 columns</p>\n",
       "</div>"
      ],
      "text/plain": [
       "                 id                                         type_objet  \\\n",
       "date                                                                     \n",
       "2017-12  0087484006                              Vêtements, chaussures   \n",
       "2017-12  0087484006           Pièces d'identités et papiers personnels   \n",
       "2017-12  0087485003                                             Divers   \n",
       "2017-12  0087485003  Appareils électroniques, informatiques, appare...   \n",
       "2017-12  0087485003                                             Divers   \n",
       "...             ...                                                ...   \n",
       "2021-12  0087683268                                  Articles médicaux   \n",
       "2021-12  0087212027                Bagagerie: sacs, valises, cartables   \n",
       "2021-12  0087411017                 Clés, porte-clés, badge magnétique   \n",
       "2021-12  0087723197  Appareils électroniques, informatiques, appare...   \n",
       "2021-12  0087723197                 Clés, porte-clés, badge magnétique   \n",
       "\n",
       "                       gare                                       nature_objet  \n",
       "date                                                                            \n",
       "2017-12   Angers Saint-Laud                                   Foulard, écharpe  \n",
       "2017-12   Angers Saint-Laud    Carte d'identité, passeport, permis de conduire  \n",
       "2017-12         La Rochelle                                      Autres divers  \n",
       "2017-12         La Rochelle  Appareil audio portable (lecteur de CD, balade...  \n",
       "2017-12         La Rochelle                                      Autres divers  \n",
       "...                     ...                                                ...  \n",
       "2021-12  Laroche - Migennes                                       Radiographie  \n",
       "2021-12          Strasbourg     Sac de voyage, sac de sport, sac à bandoulière  \n",
       "2021-12   Rouen Rive Droite                                   Clés, porte-clés  \n",
       "2021-12      Lyon Part Dieu                    AirPod, casque audio, écouteurs  \n",
       "2021-12      Lyon Part Dieu                                     Clé de voiture  \n",
       "\n",
       "[295171 rows x 4 columns]"
      ]
     },
     "execution_count": 11,
     "metadata": {},
     "output_type": "execute_result"
    }
   ],
   "source": [
    "evolution = objets_perdus.reset_index().copy()\n",
    "evolution['date'] = evolution['date'].dt.strftime(\"%Y-%m\")\n",
    "\n",
    "evolution.set_index('date', inplace=True)\n",
    "\n",
    "evolution"
   ]
  },
  {
   "cell_type": "code",
   "execution_count": 12,
   "metadata": {},
   "outputs": [
    {
     "data": {
      "text/html": [
       "<div>\n",
       "<style scoped>\n",
       "    .dataframe tbody tr th:only-of-type {\n",
       "        vertical-align: middle;\n",
       "    }\n",
       "\n",
       "    .dataframe tbody tr th {\n",
       "        vertical-align: top;\n",
       "    }\n",
       "\n",
       "    .dataframe thead th {\n",
       "        text-align: right;\n",
       "    }\n",
       "</style>\n",
       "<table border=\"1\" class=\"dataframe\">\n",
       "  <thead>\n",
       "    <tr style=\"text-align: right;\">\n",
       "      <th></th>\n",
       "      <th></th>\n",
       "      <th>nature_objet</th>\n",
       "    </tr>\n",
       "    <tr>\n",
       "      <th>type_objet</th>\n",
       "      <th>date</th>\n",
       "      <th></th>\n",
       "    </tr>\n",
       "  </thead>\n",
       "  <tbody>\n",
       "    <tr>\n",
       "      <th rowspan=\"5\" valign=\"top\">Appareils électroniques, informatiques, appareils photo</th>\n",
       "      <th>2017-12</th>\n",
       "      <td>973</td>\n",
       "    </tr>\n",
       "    <tr>\n",
       "      <th>2018-01</th>\n",
       "      <td>1150</td>\n",
       "    </tr>\n",
       "    <tr>\n",
       "      <th>2018-02</th>\n",
       "      <td>1086</td>\n",
       "    </tr>\n",
       "    <tr>\n",
       "      <th>2018-03</th>\n",
       "      <td>1069</td>\n",
       "    </tr>\n",
       "    <tr>\n",
       "      <th>2018-04</th>\n",
       "      <td>811</td>\n",
       "    </tr>\n",
       "    <tr>\n",
       "      <th>...</th>\n",
       "      <th>...</th>\n",
       "      <td>...</td>\n",
       "    </tr>\n",
       "    <tr>\n",
       "      <th rowspan=\"5\" valign=\"top\">Vêtements, chaussures</th>\n",
       "      <th>2021-08</th>\n",
       "      <td>897</td>\n",
       "    </tr>\n",
       "    <tr>\n",
       "      <th>2021-09</th>\n",
       "      <td>873</td>\n",
       "    </tr>\n",
       "    <tr>\n",
       "      <th>2021-10</th>\n",
       "      <td>773</td>\n",
       "    </tr>\n",
       "    <tr>\n",
       "      <th>2021-11</th>\n",
       "      <td>502</td>\n",
       "    </tr>\n",
       "    <tr>\n",
       "      <th>2021-12</th>\n",
       "      <td>460</td>\n",
       "    </tr>\n",
       "  </tbody>\n",
       "</table>\n",
       "<p>777 rows × 1 columns</p>\n",
       "</div>"
      ],
      "text/plain": [
       "                                                            nature_objet\n",
       "type_objet                                         date                 \n",
       "Appareils électroniques, informatiques, apparei... 2017-12           973\n",
       "                                                   2018-01          1150\n",
       "                                                   2018-02          1086\n",
       "                                                   2018-03          1069\n",
       "                                                   2018-04           811\n",
       "...                                                                  ...\n",
       "Vêtements, chaussures                              2021-08           897\n",
       "                                                   2021-09           873\n",
       "                                                   2021-10           773\n",
       "                                                   2021-11           502\n",
       "                                                   2021-12           460\n",
       "\n",
       "[777 rows x 1 columns]"
      ]
     },
     "execution_count": 12,
     "metadata": {},
     "output_type": "execute_result"
    }
   ],
   "source": [
    "evolution = evolution.groupby(by=['type_objet', 'date']).count()\n",
    "\n",
    "del evolution['id']\n",
    "del evolution['gare']\n",
    "\n",
    "evolution"
   ]
  },
  {
   "cell_type": "code",
   "execution_count": 13,
   "metadata": {},
   "outputs": [
    {
     "name": "stderr",
     "output_type": "stream",
     "text": [
      "/tmp/ipykernel_220150/531021346.py:3: UserWarning: FixedFormatter should only be used together with FixedLocator\n",
      "  ax.set_xticklabels(ax.get_xticklabels(), rotation=90)\n"
     ]
    },
    {
     "data": {
      "image/png": "[encoded data removed]",
      "text/plain": [
       "<Figure size 640x480 with 1 Axes>"
      ]
     },
     "metadata": {},
     "output_type": "display_data"
    }
   ],
   "source": [
    "sns.scatterplot(x='date', y='nature_objet', data=evolution, hue=\"type_objet\")\n",
    "ax = plt.gca()\n",
    "ax.set_xticklabels(ax.get_xticklabels(), rotation=90)\n",
    "ax.tick_params(axis='x', labelsize=10)\n",
    "plt.show()"
   ]
  },
  {
   "cell_type": "code",
   "execution_count": 14,
   "metadata": {},
   "outputs": [],
   "source": [
    "import plotly.express as px"
   ]
  },
  {
   "cell_type": "code",
   "execution_count": 15,
   "metadata": {},
   "outputs": [],
   "source": [
    "evolution.reset_index(inplace=True)"
   ]
  },
  {
   "cell_type": "code",
   "execution_count": 16,
   "metadata": {},
   "outputs": [
    {
     "data": {
      "application/vnd.plotly.v1+json": {
       "config": {
        "plotlyServerURL": "https://plot.ly"
       },
       "data": [
        {
         "hovertemplate": "type_objet=Appareils électroniques, informatiques, appareils photo<br>date=%{x}<br>nature_objet=%{y}<extra></extra>",
         "legendgroup": "Appareils électroniques, informatiques, appareils photo",
         "marker": {
          "color": "#636efa",
          "symbol": "circle"
         },
         "mode": "markers",
         "name": "Appareils électroniques, informatiques, appareils photo",
         "orientation": "v",
         "showlegend": true,
         "type": "scatter",
         "x": [
          "2017-12",
          "2018-01",
          "2018-02",
          "2018-03",
          "2018-04",
          "2018-05",
          "2018-06",
          "2018-07",
          "2018-08",
          "2018-09",
          "2018-10",
          "2018-11",
          "2018-12",
          "2019-01",
          "2019-02",
          "2019-03",
          "2019-04",
          "2019-05",
          "2019-06",
          "2019-07",
          "2019-08",
          "2019-09",
          "2019-10",
          "2019-11",
          "2019-12",
          "2020-01",
          "2020-02",
          "2020-03",
          "2020-04",
          "2020-05",
          "2020-06",
          "2020-07",
          "2020-08",
          "2020-09",
          "2020-10",
          "2020-11",
          "2020-12",
          "2021-01",
          "2021-02",
          "2021-03",
          "2021-04",
          "2021-05",
          "2021-06",
          "2021-07",
          "2021-08",
          "2021-09",
          "2021-10",
          "2021-11",
          "2021-12"
         ],
         "xaxis": "x",
         "y": [
          973,
          1150,
          1086,
          1069,
          811,
          828,
          1029,
          1317,
          1172,
          1223,
          1304,
          1082,
          1043,
          1138,
          1083,
          1261,
          1213,
          1179,
          1296,
          1396,
          1155,
          1172,
          1228,
          1074,
          578,
          808,
          1074,
          518,
          4,
          166,
          556,
          832,
          832,
          797,
          808,
          338,
          613,
          630,
          650,
          761,
          525,
          756,
          917,
          988,
          893,
          970,
          978,
          912,
          991
         ],
         "yaxis": "y"
        },
        {
         "hovertemplate": "type_objet=Articles d'enfants, de puériculture<br>date=%{x}<br>nature_objet=%{y}<extra></extra>",
         "legendgroup": "Articles d'enfants, de puériculture",
         "marker": {
          "color": "#EF553B",
          "symbol": "circle"
         },
         "mode": "markers",
         "name": "Articles d'enfants, de puériculture",
         "orientation": "v",
         "showlegend": true,
         "type": "scatter",
         "x": [
          "2017-12",
          "2018-01",
          "2018-02",
          "2018-03",
          "2018-04",
          "2018-05",
          "2018-06",
          "2018-07",
          "2018-08",
          "2018-09",
          "2018-10",
          "2018-11",
          "2018-12",
          "2019-01",
          "2019-02",
          "2019-03",
          "2019-04",
          "2019-05",
          "2019-06",
          "2019-07",
          "2019-08",
          "2019-09",
          "2019-10",
          "2019-11",
          "2019-12",
          "2020-01",
          "2020-02",
          "2020-03",
          "2020-05",
          "2020-06",
          "2020-07",
          "2020-08",
          "2020-09",
          "2020-10",
          "2020-11",
          "2020-12",
          "2021-01",
          "2021-02",
          "2021-03",
          "2021-04",
          "2021-05",
          "2021-06",
          "2021-07",
          "2021-08",
          "2021-09",
          "2021-10",
          "2021-11",
          "2021-12"
         ],
         "xaxis": "x",
         "y": [
          89,
          94,
          84,
          78,
          57,
          72,
          63,
          96,
          144,
          69,
          61,
          54,
          64,
          59,
          64,
          51,
          74,
          71,
          71,
          125,
          123,
          61,
          59,
          51,
          29,
          45,
          62,
          23,
          6,
          33,
          78,
          84,
          27,
          55,
          16,
          25,
          33,
          30,
          53,
          27,
          41,
          43,
          87,
          86,
          55,
          57,
          60,
          75
         ],
         "yaxis": "y"
        },
        {
         "hovertemplate": "type_objet=Articles de sport, loisirs, camping<br>date=%{x}<br>nature_objet=%{y}<extra></extra>",
         "legendgroup": "Articles de sport, loisirs, camping",
         "marker": {
          "color": "#00cc96",
          "symbol": "circle"
         },
         "mode": "markers",
         "name": "Articles de sport, loisirs, camping",
         "orientation": "v",
         "showlegend": true,
         "type": "scatter",
         "x": [
          "2017-12",
          "2018-01",
          "2018-02",
          "2018-03",
          "2018-04",
          "2018-05",
          "2018-06",
          "2018-07",
          "2018-08",
          "2018-09",
          "2018-10",
          "2018-11",
          "2018-12",
          "2019-01",
          "2019-02",
          "2019-03",
          "2019-04",
          "2019-05",
          "2019-06",
          "2019-07",
          "2019-08",
          "2019-09",
          "2019-10",
          "2019-11",
          "2019-12",
          "2020-01",
          "2020-02",
          "2020-03",
          "2020-05",
          "2020-06",
          "2020-07",
          "2020-08",
          "2020-09",
          "2020-10",
          "2020-11",
          "2020-12",
          "2021-01",
          "2021-02",
          "2021-03",
          "2021-04",
          "2021-05",
          "2021-06",
          "2021-07",
          "2021-08",
          "2021-09",
          "2021-10",
          "2021-11",
          "2021-12"
         ],
         "xaxis": "x",
         "y": [
          48,
          78,
          69,
          66,
          43,
          67,
          72,
          200,
          198,
          85,
          69,
          52,
          51,
          61,
          52,
          62,
          67,
          59,
          74,
          171,
          171,
          88,
          51,
          59,
          24,
          46,
          64,
          32,
          13,
          43,
          149,
          167,
          69,
          49,
          13,
          34,
          36,
          41,
          47,
          29,
          42,
          61,
          167,
          172,
          69,
          55,
          49,
          40
         ],
         "yaxis": "y"
        },
        {
         "hovertemplate": "type_objet=Articles médicaux<br>date=%{x}<br>nature_objet=%{y}<extra></extra>",
         "legendgroup": "Articles médicaux",
         "marker": {
          "color": "#ab63fa",
          "symbol": "circle"
         },
         "mode": "markers",
         "name": "Articles médicaux",
         "orientation": "v",
         "showlegend": true,
         "type": "scatter",
         "x": [
          "2017-12",
          "2018-01",
          "2018-02",
          "2018-03",
          "2018-04",
          "2018-05",
          "2018-06",
          "2018-07",
          "2018-08",
          "2018-09",
          "2018-10",
          "2018-11",
          "2018-12",
          "2019-01",
          "2019-02",
          "2019-03",
          "2019-04",
          "2019-05",
          "2019-06",
          "2019-07",
          "2019-08",
          "2019-09",
          "2019-10",
          "2019-11",
          "2019-12",
          "2020-01",
          "2020-02",
          "2020-03",
          "2020-05",
          "2020-06",
          "2020-07",
          "2020-08",
          "2020-09",
          "2020-10",
          "2020-11",
          "2020-12",
          "2021-01",
          "2021-02",
          "2021-03",
          "2021-04",
          "2021-05",
          "2021-06",
          "2021-07",
          "2021-08",
          "2021-09",
          "2021-10",
          "2021-11",
          "2021-12"
         ],
         "xaxis": "x",
         "y": [
          41,
          42,
          34,
          47,
          30,
          24,
          37,
          55,
          39,
          31,
          39,
          30,
          29,
          30,
          25,
          34,
          30,
          42,
          31,
          34,
          31,
          46,
          30,
          27,
          20,
          21,
          27,
          16,
          5,
          26,
          22,
          33,
          23,
          25,
          9,
          20,
          16,
          19,
          18,
          19,
          21,
          30,
          23,
          35,
          35,
          28,
          37,
          29
         ],
         "yaxis": "y"
        },
        {
         "hovertemplate": "type_objet=Bagagerie: sacs, valises, cartables<br>date=%{x}<br>nature_objet=%{y}<extra></extra>",
         "legendgroup": "Bagagerie: sacs, valises, cartables",
         "marker": {
          "color": "#FFA15A",
          "symbol": "circle"
         },
         "mode": "markers",
         "name": "Bagagerie: sacs, valises, cartables",
         "orientation": "v",
         "showlegend": true,
         "type": "scatter",
         "x": [
          "2017-12",
          "2018-01",
          "2018-02",
          "2018-03",
          "2018-04",
          "2018-05",
          "2018-06",
          "2018-07",
          "2018-08",
          "2018-09",
          "2018-10",
          "2018-11",
          "2018-12",
          "2019-01",
          "2019-02",
          "2019-03",
          "2019-04",
          "2019-05",
          "2019-06",
          "2019-07",
          "2019-08",
          "2019-09",
          "2019-10",
          "2019-11",
          "2019-12",
          "2020-01",
          "2020-02",
          "2020-03",
          "2020-04",
          "2020-05",
          "2020-06",
          "2020-07",
          "2020-08",
          "2020-09",
          "2020-10",
          "2020-11",
          "2020-12",
          "2021-01",
          "2021-02",
          "2021-03",
          "2021-04",
          "2021-05",
          "2021-06",
          "2021-07",
          "2021-08",
          "2021-09",
          "2021-10",
          "2021-11",
          "2021-12"
         ],
         "xaxis": "x",
         "y": [
          2519,
          2632,
          2370,
          2574,
          1798,
          1712,
          1945,
          2638,
          2411,
          2311,
          2739,
          2552,
          2798,
          2604,
          2410,
          2515,
          2666,
          2393,
          2377,
          2789,
          2488,
          2438,
          2550,
          2516,
          1280,
          1857,
          2425,
          1253,
          25,
          328,
          985,
          1716,
          1721,
          1504,
          1834,
          722,
          1387,
          1466,
          1398,
          1428,
          1076,
          1467,
          1593,
          2097,
          2242,
          1974,
          2235,
          2232,
          2399
         ],
         "yaxis": "y"
        },
        {
         "hovertemplate": "type_objet=Bijoux, montres<br>date=%{x}<br>nature_objet=%{y}<extra></extra>",
         "legendgroup": "Bijoux, montres",
         "marker": {
          "color": "#19d3f3",
          "symbol": "circle"
         },
         "mode": "markers",
         "name": "Bijoux, montres",
         "orientation": "v",
         "showlegend": true,
         "type": "scatter",
         "x": [
          "2017-12",
          "2018-01",
          "2018-02",
          "2018-03",
          "2018-04",
          "2018-05",
          "2018-06",
          "2018-07",
          "2018-08",
          "2018-09",
          "2018-10",
          "2018-11",
          "2018-12",
          "2019-01",
          "2019-02",
          "2019-03",
          "2019-04",
          "2019-05",
          "2019-06",
          "2019-07",
          "2019-08",
          "2019-09",
          "2019-10",
          "2019-11",
          "2019-12",
          "2020-01",
          "2020-02",
          "2020-03",
          "2020-05",
          "2020-06",
          "2020-07",
          "2020-08",
          "2020-09",
          "2020-10",
          "2020-11",
          "2020-12",
          "2021-01",
          "2021-02",
          "2021-03",
          "2021-04",
          "2021-05",
          "2021-06",
          "2021-07",
          "2021-08",
          "2021-09",
          "2021-10",
          "2021-11",
          "2021-12"
         ],
         "xaxis": "x",
         "y": [
          59,
          78,
          77,
          57,
          54,
          51,
          59,
          84,
          85,
          72,
          97,
          71,
          80,
          77,
          67,
          76,
          68,
          72,
          66,
          73,
          62,
          66,
          70,
          47,
          43,
          48,
          70,
          32,
          9,
          26,
          62,
          58,
          48,
          34,
          11,
          29,
          26,
          30,
          33,
          23,
          39,
          42,
          66,
          56,
          60,
          59,
          53,
          59
         ],
         "yaxis": "y"
        },
        {
         "hovertemplate": "type_objet=Clés, porte-clés, badge magnétique<br>date=%{x}<br>nature_objet=%{y}<extra></extra>",
         "legendgroup": "Clés, porte-clés, badge magnétique",
         "marker": {
          "color": "#FF6692",
          "symbol": "circle"
         },
         "mode": "markers",
         "name": "Clés, porte-clés, badge magnétique",
         "orientation": "v",
         "showlegend": true,
         "type": "scatter",
         "x": [
          "2017-12",
          "2018-01",
          "2018-02",
          "2018-03",
          "2018-04",
          "2018-05",
          "2018-06",
          "2018-07",
          "2018-08",
          "2018-09",
          "2018-10",
          "2018-11",
          "2018-12",
          "2019-01",
          "2019-02",
          "2019-03",
          "2019-04",
          "2019-05",
          "2019-06",
          "2019-07",
          "2019-08",
          "2019-09",
          "2019-10",
          "2019-11",
          "2019-12",
          "2020-01",
          "2020-02",
          "2020-03",
          "2020-04",
          "2020-05",
          "2020-06",
          "2020-07",
          "2020-08",
          "2020-09",
          "2020-10",
          "2020-11",
          "2020-12",
          "2021-01",
          "2021-02",
          "2021-03",
          "2021-04",
          "2021-05",
          "2021-06",
          "2021-07",
          "2021-08",
          "2021-09",
          "2021-10",
          "2021-11",
          "2021-12"
         ],
         "xaxis": "x",
         "y": [
          316,
          367,
          309,
          358,
          205,
          279,
          321,
          381,
          288,
          380,
          408,
          319,
          316,
          325,
          330,
          340,
          335,
          340,
          339,
          381,
          289,
          336,
          350,
          293,
          135,
          237,
          291,
          136,
          5,
          61,
          170,
          206,
          193,
          261,
          202,
          104,
          134,
          174,
          167,
          156,
          129,
          164,
          222,
          213,
          206,
          230,
          220,
          200,
          207
         ],
         "yaxis": "y"
        },
        {
         "hovertemplate": "type_objet=Divers<br>date=%{x}<br>nature_objet=%{y}<extra></extra>",
         "legendgroup": "Divers",
         "marker": {
          "color": "#B6E880",
          "symbol": "circle"
         },
         "mode": "markers",
         "name": "Divers",
         "orientation": "v",
         "showlegend": true,
         "type": "scatter",
         "x": [
          "2017-12",
          "2018-01",
          "2018-02",
          "2018-03",
          "2018-04",
          "2018-05",
          "2018-06",
          "2018-07",
          "2018-08",
          "2018-09",
          "2018-10",
          "2018-11",
          "2018-12",
          "2019-01",
          "2019-02",
          "2019-03",
          "2019-04",
          "2019-05",
          "2019-06",
          "2019-07",
          "2019-08",
          "2019-09",
          "2019-10",
          "2019-11",
          "2019-12",
          "2020-01",
          "2020-02",
          "2020-03",
          "2020-04",
          "2020-05",
          "2020-06",
          "2020-07",
          "2020-08",
          "2020-09",
          "2020-10",
          "2020-11",
          "2020-12",
          "2021-01",
          "2021-02",
          "2021-03",
          "2021-04",
          "2021-05",
          "2021-06",
          "2021-07",
          "2021-08",
          "2021-09",
          "2021-10",
          "2021-11",
          "2021-12"
         ],
         "xaxis": "x",
         "y": [
          127,
          128,
          112,
          127,
          83,
          95,
          127,
          177,
          248,
          145,
          187,
          138,
          139,
          133,
          111,
          158,
          158,
          180,
          169,
          226,
          189,
          202,
          185,
          163,
          97,
          141,
          136,
          60,
          3,
          27,
          67,
          131,
          124,
          109,
          109,
          48,
          101,
          86,
          81,
          88,
          73,
          88,
          137,
          171,
          163,
          139,
          154,
          111,
          139
         ],
         "yaxis": "y"
        },
        {
         "hovertemplate": "type_objet=Instruments de musique<br>date=%{x}<br>nature_objet=%{y}<extra></extra>",
         "legendgroup": "Instruments de musique",
         "marker": {
          "color": "#FF97FF",
          "symbol": "circle"
         },
         "mode": "markers",
         "name": "Instruments de musique",
         "orientation": "v",
         "showlegend": true,
         "type": "scatter",
         "x": [
          "2017-12",
          "2018-01",
          "2018-02",
          "2018-03",
          "2018-04",
          "2018-05",
          "2018-06",
          "2018-07",
          "2018-08",
          "2018-09",
          "2018-10",
          "2018-11",
          "2018-12",
          "2019-01",
          "2019-02",
          "2019-03",
          "2019-04",
          "2019-05",
          "2019-06",
          "2019-07",
          "2019-08",
          "2019-09",
          "2019-10",
          "2019-11",
          "2019-12",
          "2020-01",
          "2020-02",
          "2020-03",
          "2020-05",
          "2020-06",
          "2020-07",
          "2020-08",
          "2020-09",
          "2020-10",
          "2020-11",
          "2020-12",
          "2021-01",
          "2021-02",
          "2021-03",
          "2021-04",
          "2021-05",
          "2021-06",
          "2021-07",
          "2021-08",
          "2021-09",
          "2021-10",
          "2021-11",
          "2021-12"
         ],
         "xaxis": "x",
         "y": [
          19,
          21,
          12,
          16,
          16,
          16,
          13,
          29,
          22,
          17,
          16,
          13,
          20,
          28,
          13,
          15,
          24,
          24,
          13,
          33,
          30,
          21,
          16,
          19,
          5,
          12,
          9,
          11,
          3,
          8,
          30,
          22,
          14,
          19,
          16,
          21,
          11,
          7,
          10,
          16,
          17,
          13,
          25,
          24,
          20,
          16,
          12,
          24
         ],
         "yaxis": "y"
        },
        {
         "hovertemplate": "type_objet=Livres, articles de papéterie<br>date=%{x}<br>nature_objet=%{y}<extra></extra>",
         "legendgroup": "Livres, articles de papéterie",
         "marker": {
          "color": "#FECB52",
          "symbol": "circle"
         },
         "mode": "markers",
         "name": "Livres, articles de papéterie",
         "orientation": "v",
         "showlegend": true,
         "type": "scatter",
         "x": [
          "2017-12",
          "2018-01",
          "2018-02",
          "2018-03",
          "2018-04",
          "2018-05",
          "2018-06",
          "2018-07",
          "2018-08",
          "2018-09",
          "2018-10",
          "2018-11",
          "2018-12",
          "2019-01",
          "2019-02",
          "2019-03",
          "2019-04",
          "2019-05",
          "2019-06",
          "2019-07",
          "2019-08",
          "2019-09",
          "2019-10",
          "2019-11",
          "2019-12",
          "2020-01",
          "2020-02",
          "2020-03",
          "2020-05",
          "2020-06",
          "2020-07",
          "2020-08",
          "2020-09",
          "2020-10",
          "2020-11",
          "2020-12",
          "2021-01",
          "2021-02",
          "2021-03",
          "2021-04",
          "2021-05",
          "2021-06",
          "2021-07",
          "2021-08",
          "2021-09",
          "2021-10",
          "2021-11",
          "2021-12"
         ],
         "xaxis": "x",
         "y": [
          157,
          188,
          153,
          155,
          118,
          107,
          181,
          181,
          131,
          176,
          212,
          210,
          154,
          162,
          161,
          190,
          167,
          160,
          118,
          168,
          130,
          140,
          198,
          169,
          74,
          114,
          158,
          63,
          22,
          47,
          104,
          73,
          87,
          66,
          29,
          64,
          54,
          55,
          87,
          58,
          79,
          89,
          102,
          77,
          92,
          115,
          92,
          93
         ],
         "yaxis": "y"
        },
        {
         "hovertemplate": "type_objet=Optique<br>date=%{x}<br>nature_objet=%{y}<extra></extra>",
         "legendgroup": "Optique",
         "marker": {
          "color": "#636efa",
          "symbol": "circle"
         },
         "mode": "markers",
         "name": "Optique",
         "orientation": "v",
         "showlegend": true,
         "type": "scatter",
         "x": [
          "2017-12",
          "2018-01",
          "2018-02",
          "2018-03",
          "2018-04",
          "2018-05",
          "2018-06",
          "2018-07",
          "2018-08",
          "2018-09",
          "2018-10",
          "2018-11",
          "2018-12",
          "2019-01",
          "2019-02",
          "2019-03",
          "2019-04",
          "2019-05",
          "2019-06",
          "2019-07",
          "2019-08",
          "2019-09",
          "2019-10",
          "2019-11",
          "2019-12",
          "2020-01",
          "2020-02",
          "2020-03",
          "2020-04",
          "2020-05",
          "2020-06",
          "2020-07",
          "2020-08",
          "2020-09",
          "2020-10",
          "2020-11",
          "2020-12",
          "2021-01",
          "2021-02",
          "2021-03",
          "2021-04",
          "2021-05",
          "2021-06",
          "2021-07",
          "2021-08",
          "2021-09",
          "2021-10",
          "2021-11",
          "2021-12"
         ],
         "xaxis": "x",
         "y": [
          357,
          344,
          320,
          361,
          290,
          371,
          382,
          585,
          512,
          445,
          445,
          350,
          318,
          324,
          313,
          385,
          441,
          441,
          472,
          664,
          484,
          475,
          365,
          285,
          142,
          204,
          315,
          122,
          2,
          46,
          206,
          325,
          338,
          291,
          232,
          104,
          162,
          188,
          183,
          224,
          144,
          215,
          306,
          338,
          341,
          288,
          269,
          221,
          268
         ],
         "yaxis": "y"
        },
        {
         "hovertemplate": "type_objet=Parapluies<br>date=%{x}<br>nature_objet=%{y}<extra></extra>",
         "legendgroup": "Parapluies",
         "marker": {
          "color": "#EF553B",
          "symbol": "circle"
         },
         "mode": "markers",
         "name": "Parapluies",
         "orientation": "v",
         "showlegend": true,
         "type": "scatter",
         "x": [
          "2017-12",
          "2018-01",
          "2018-02",
          "2018-03",
          "2018-04",
          "2018-05",
          "2018-06",
          "2018-07",
          "2018-08",
          "2018-09",
          "2018-10",
          "2018-11",
          "2018-12",
          "2019-01",
          "2019-02",
          "2019-03",
          "2019-04",
          "2019-05",
          "2019-06",
          "2019-07",
          "2019-08",
          "2019-09",
          "2019-10",
          "2019-11",
          "2019-12",
          "2020-01",
          "2020-02",
          "2020-03",
          "2020-05",
          "2020-06",
          "2020-07",
          "2020-08",
          "2020-09",
          "2020-10",
          "2020-11",
          "2020-12",
          "2021-01",
          "2021-02",
          "2021-03",
          "2021-04",
          "2021-05",
          "2021-06",
          "2021-07",
          "2021-08",
          "2021-09",
          "2021-10",
          "2021-11",
          "2021-12"
         ],
         "xaxis": "x",
         "y": [
          119,
          166,
          86,
          99,
          61,
          49,
          78,
          37,
          45,
          26,
          41,
          108,
          100,
          45,
          44,
          82,
          59,
          78,
          75,
          23,
          47,
          42,
          107,
          98,
          50,
          53,
          64,
          80,
          7,
          36,
          14,
          25,
          25,
          77,
          10,
          43,
          36,
          48,
          22,
          8,
          43,
          41,
          55,
          40,
          41,
          54,
          39,
          63
         ],
         "yaxis": "y"
        },
        {
         "hovertemplate": "type_objet=Pièces d'identités et papiers personnels<br>date=%{x}<br>nature_objet=%{y}<extra></extra>",
         "legendgroup": "Pièces d'identités et papiers personnels",
         "marker": {
          "color": "#00cc96",
          "symbol": "circle"
         },
         "mode": "markers",
         "name": "Pièces d'identités et papiers personnels",
         "orientation": "v",
         "showlegend": true,
         "type": "scatter",
         "x": [
          "2017-12",
          "2018-01",
          "2018-02",
          "2018-03",
          "2018-04",
          "2018-05",
          "2018-06",
          "2018-07",
          "2018-08",
          "2018-09",
          "2018-10",
          "2018-11",
          "2018-12",
          "2019-01",
          "2019-02",
          "2019-03",
          "2019-04",
          "2019-05",
          "2019-06",
          "2019-07",
          "2019-08",
          "2019-09",
          "2019-10",
          "2019-11",
          "2019-12",
          "2020-01",
          "2020-02",
          "2020-03",
          "2020-04",
          "2020-05",
          "2020-06",
          "2020-07",
          "2020-08",
          "2020-09",
          "2020-10",
          "2020-11",
          "2020-12",
          "2021-01",
          "2021-02",
          "2021-03",
          "2021-04",
          "2021-05",
          "2021-06",
          "2021-07",
          "2021-08",
          "2021-09",
          "2021-10",
          "2021-11",
          "2021-12"
         ],
         "xaxis": "x",
         "y": [
          645,
          693,
          601,
          601,
          463,
          488,
          514,
          703,
          681,
          592,
          718,
          575,
          640,
          578,
          525,
          551,
          543,
          536,
          515,
          565,
          537,
          463,
          471,
          434,
          269,
          367,
          487,
          227,
          9,
          139,
          257,
          384,
          384,
          406,
          362,
          201,
          257,
          251,
          253,
          262,
          239,
          278,
          336,
          395,
          433,
          369,
          357,
          315,
          374
         ],
         "yaxis": "y"
        },
        {
         "hovertemplate": "type_objet=Porte-monnaie / portefeuille, argent, titres<br>date=%{x}<br>nature_objet=%{y}<extra></extra>",
         "legendgroup": "Porte-monnaie / portefeuille, argent, titres",
         "marker": {
          "color": "#ab63fa",
          "symbol": "circle"
         },
         "mode": "markers",
         "name": "Porte-monnaie / portefeuille, argent, titres",
         "orientation": "v",
         "showlegend": true,
         "type": "scatter",
         "x": [
          "2017-12",
          "2018-01",
          "2018-02",
          "2018-03",
          "2018-04",
          "2018-05",
          "2018-06",
          "2018-07",
          "2018-08",
          "2018-09",
          "2018-10",
          "2018-11",
          "2018-12",
          "2019-01",
          "2019-02",
          "2019-03",
          "2019-04",
          "2019-05",
          "2019-06",
          "2019-07",
          "2019-08",
          "2019-09",
          "2019-10",
          "2019-11",
          "2019-12",
          "2020-01",
          "2020-02",
          "2020-03",
          "2020-04",
          "2020-05",
          "2020-06",
          "2020-07",
          "2020-08",
          "2020-09",
          "2020-10",
          "2020-11",
          "2020-12",
          "2021-01",
          "2021-02",
          "2021-03",
          "2021-04",
          "2021-05",
          "2021-06",
          "2021-07",
          "2021-08",
          "2021-09",
          "2021-10",
          "2021-11",
          "2021-12"
         ],
         "xaxis": "x",
         "y": [
          927,
          921,
          832,
          896,
          694,
          714,
          893,
          1155,
          1109,
          1006,
          1070,
          837,
          852,
          759,
          797,
          858,
          934,
          849,
          898,
          1049,
          951,
          902,
          886,
          878,
          492,
          648,
          748,
          390,
          8,
          157,
          489,
          735,
          743,
          723,
          640,
          299,
          452,
          453,
          443,
          563,
          394,
          534,
          738,
          804,
          776,
          789,
          703,
          704,
          721
         ],
         "yaxis": "y"
        },
        {
         "hovertemplate": "type_objet=Vélos, trottinettes, accessoires 2 roues<br>date=%{x}<br>nature_objet=%{y}<extra></extra>",
         "legendgroup": "Vélos, trottinettes, accessoires 2 roues",
         "marker": {
          "color": "#FFA15A",
          "symbol": "circle"
         },
         "mode": "markers",
         "name": "Vélos, trottinettes, accessoires 2 roues",
         "orientation": "v",
         "showlegend": true,
         "type": "scatter",
         "x": [
          "2017-12",
          "2018-01",
          "2018-02",
          "2018-03",
          "2018-04",
          "2018-05",
          "2018-06",
          "2018-07",
          "2018-08",
          "2018-09",
          "2018-10",
          "2018-11",
          "2018-12",
          "2019-01",
          "2019-02",
          "2019-03",
          "2019-04",
          "2019-05",
          "2019-06",
          "2019-07",
          "2019-08",
          "2019-09",
          "2019-10",
          "2019-11",
          "2019-12",
          "2020-01",
          "2020-02",
          "2020-03",
          "2020-04",
          "2020-05",
          "2020-06",
          "2020-07",
          "2020-08",
          "2020-09",
          "2020-10",
          "2020-11",
          "2020-12",
          "2021-01",
          "2021-02",
          "2021-03",
          "2021-04",
          "2021-05",
          "2021-06",
          "2021-07",
          "2021-08",
          "2021-09",
          "2021-10",
          "2021-11",
          "2021-12"
         ],
         "xaxis": "x",
         "y": [
          69,
          103,
          99,
          107,
          81,
          90,
          115,
          112,
          93,
          155,
          169,
          133,
          96,
          92,
          106,
          133,
          145,
          140,
          130,
          164,
          132,
          127,
          123,
          106,
          46,
          99,
          113,
          67,
          1,
          30,
          93,
          111,
          125,
          152,
          112,
          61,
          71,
          73,
          69,
          84,
          91,
          121,
          170,
          167,
          158,
          145,
          170,
          108,
          102
         ],
         "yaxis": "y"
        },
        {
         "hovertemplate": "type_objet=Vêtements, chaussures<br>date=%{x}<br>nature_objet=%{y}<extra></extra>",
         "legendgroup": "Vêtements, chaussures",
         "marker": {
          "color": "#19d3f3",
          "symbol": "circle"
         },
         "mode": "markers",
         "name": "Vêtements, chaussures",
         "orientation": "v",
         "showlegend": true,
         "type": "scatter",
         "x": [
          "2017-12",
          "2018-01",
          "2018-02",
          "2018-03",
          "2018-04",
          "2018-05",
          "2018-06",
          "2018-07",
          "2018-08",
          "2018-09",
          "2018-10",
          "2018-11",
          "2018-12",
          "2019-01",
          "2019-02",
          "2019-03",
          "2019-04",
          "2019-05",
          "2019-06",
          "2019-07",
          "2019-08",
          "2019-09",
          "2019-10",
          "2019-11",
          "2019-12",
          "2020-01",
          "2020-02",
          "2020-03",
          "2020-04",
          "2020-05",
          "2020-06",
          "2020-07",
          "2020-08",
          "2020-09",
          "2020-10",
          "2020-11",
          "2020-12",
          "2021-01",
          "2021-02",
          "2021-03",
          "2021-04",
          "2021-05",
          "2021-06",
          "2021-07",
          "2021-08",
          "2021-09",
          "2021-10",
          "2021-11",
          "2021-12"
         ],
         "xaxis": "x",
         "y": [
          865,
          898,
          912,
          870,
          751,
          945,
          1173,
          1169,
          1239,
          1333,
          1309,
          873,
          878,
          757,
          793,
          851,
          978,
          1035,
          1149,
          1320,
          1201,
          1301,
          979,
          713,
          372,
          545,
          658,
          242,
          1,
          90,
          444,
          814,
          621,
          694,
          512,
          132,
          328,
          266,
          297,
          342,
          293,
          401,
          678,
          975,
          897,
          873,
          773,
          502,
          460
         ],
         "yaxis": "y"
        }
       ],
       "layout": {
        "legend": {
         "title": {
          "text": "type_objet"
         },
         "tracegroupgap": 0
        },
        "template": {
         "data": {
          "bar": [
           {
            "error_x": {
             "color": "#2a3f5f"
            },
            "error_y": {
             "color": "#2a3f5f"
            },
            "marker": {
             "line": {
              "color": "#E5ECF6",
              "width": 0.5
             },
             "pattern": {
              "fillmode": "overlay",
              "size": 10,
              "solidity": 0.2
             }
            },
            "type": "bar"
           }
          ],
          "barpolar": [
           {
            "marker": {
             "line": {
              "color": "#E5ECF6",
              "width": 0.5
             },
             "pattern": {
              "fillmode": "overlay",
              "size": 10,
              "solidity": 0.2
             }
            },
            "type": "barpolar"
           }
          ],
          "carpet": [
           {
            "aaxis": {
             "endlinecolor": "#2a3f5f",
             "gridcolor": "white",
             "linecolor": "white",
             "minorgridcolor": "white",
             "startlinecolor": "#2a3f5f"
            },
            "baxis": {
             "endlinecolor": "#2a3f5f",
             "gridcolor": "white",
             "linecolor": "white",
             "minorgridcolor": "white",
             "startlinecolor": "#2a3f5f"
            },
            "type": "carpet"
           }
          ],
          "choropleth": [
           {
            "colorbar": {
             "outlinewidth": 0,
             "ticks": ""
            },
            "type": "choropleth"
           }
          ],
          "contour": [
           {
            "colorbar": {
             "outlinewidth": 0,
             "ticks": ""
            },
            "colorscale": [
             [
              0,
              "#0d0887"
             ],
             [
              0.1111111111111111,
              "#46039f"
             ],
             [
              0.2222222222222222,
              "#7201a8"
             ],
             [
              0.3333333333333333,
              "#9c179e"
             ],
             [
              0.4444444444444444,
              "#bd3786"
             ],
             [
              0.5555555555555556,
              "#d8576b"
             ],
             [
              0.6666666666666666,
              "#ed7953"
             ],
             [
              0.7777777777777778,
              "#fb9f3a"
             ],
             [
              0.8888888888888888,
              "#fdca26"
             ],
             [
              1,
              "#f0f921"
             ]
            ],
            "type": "contour"
           }
          ],
          "contourcarpet": [
           {
            "colorbar": {
             "outlinewidth": 0,
             "ticks": ""
            },
            "type": "contourcarpet"
           }
          ],
          "heatmap": [
           {
            "colorbar": {
             "outlinewidth": 0,
             "ticks": ""
            },
            "colorscale": [
             [
              0,
              "#0d0887"
             ],
             [
              0.1111111111111111,
              "#46039f"
             ],
             [
              0.2222222222222222,
              "#7201a8"
             ],
             [
              0.3333333333333333,
              "#9c179e"
             ],
             [
              0.4444444444444444,
              "#bd3786"
             ],
             [
              0.5555555555555556,
              "#d8576b"
             ],
             [
              0.6666666666666666,
              "#ed7953"
             ],
             [
              0.7777777777777778,
              "#fb9f3a"
             ],
             [
              0.8888888888888888,
              "#fdca26"
             ],
             [
              1,
              "#f0f921"
             ]
            ],
            "type": "heatmap"
           }
          ],
          "heatmapgl": [
           {
            "colorbar": {
             "outlinewidth": 0,
             "ticks": ""
            },
            "colorscale": [
             [
              0,
              "#0d0887"
             ],
             [
              0.1111111111111111,
              "#46039f"
             ],
             [
              0.2222222222222222,
              "#7201a8"
             ],
             [
              0.3333333333333333,
              "#9c179e"
             ],
             [
              0.4444444444444444,
              "#bd3786"
             ],
             [
              0.5555555555555556,
              "#d8576b"
             ],
             [
              0.6666666666666666,
              "#ed7953"
             ],
             [
              0.7777777777777778,
              "#fb9f3a"
             ],
             [
              0.8888888888888888,
              "#fdca26"
             ],
             [
              1,
              "#f0f921"
             ]
            ],
            "type": "heatmapgl"
           }
          ],
          "histogram": [
           {
            "marker": {
             "pattern": {
              "fillmode": "overlay",
              "size": 10,
              "solidity": 0.2
             }
            },
            "type": "histogram"
           }
          ],
          "histogram2d": [
           {
            "colorbar": {
             "outlinewidth": 0,
             "ticks": ""
            },
            "colorscale": [
             [
              0,
              "#0d0887"
             ],
             [
              0.1111111111111111,
              "#46039f"
             ],
             [
              0.2222222222222222,
              "#7201a8"
             ],
             [
              0.3333333333333333,
              "#9c179e"
             ],
             [
              0.4444444444444444,
              "#bd3786"
             ],
             [
              0.5555555555555556,
              "#d8576b"
             ],
             [
              0.6666666666666666,
              "#ed7953"
             ],
             [
              0.7777777777777778,
              "#fb9f3a"
             ],
             [
              0.8888888888888888,
              "#fdca26"
             ],
             [
              1,
              "#f0f921"
             ]
            ],
            "type": "histogram2d"
           }
          ],
          "histogram2dcontour": [
           {
            "colorbar": {
             "outlinewidth": 0,
             "ticks": ""
            },
            "colorscale": [
             [
              0,
              "#0d0887"
             ],
             [
              0.1111111111111111,
              "#46039f"
             ],
             [
              0.2222222222222222,
              "#7201a8"
             ],
             [
              0.3333333333333333,
              "#9c179e"
             ],
             [
              0.4444444444444444,
              "#bd3786"
             ],
             [
              0.5555555555555556,
              "#d8576b"
             ],
             [
              0.6666666666666666,
              "#ed7953"
             ],
             [
              0.7777777777777778,
              "#fb9f3a"
             ],
             [
              0.8888888888888888,
              "#fdca26"
             ],
             [
              1,
              "#f0f921"
             ]
            ],
            "type": "histogram2dcontour"
           }
          ],
          "mesh3d": [
           {
            "colorbar": {
             "outlinewidth": 0,
             "ticks": ""
            },
            "type": "mesh3d"
           }
          ],
          "parcoords": [
           {
            "line": {
             "colorbar": {
              "outlinewidth": 0,
              "ticks": ""
             }
            },
            "type": "parcoords"
           }
          ],
          "pie": [
           {
            "automargin": true,
            "type": "pie"
           }
          ],
          "scatter": [
           {
            "fillpattern": {
             "fillmode": "overlay",
             "size": 10,
             "solidity": 0.2
            },
            "type": "scatter"
           }
          ],
          "scatter3d": [
           {
            "line": {
             "colorbar": {
              "outlinewidth": 0,
              "ticks": ""
             }
            },
            "marker": {
             "colorbar": {
              "outlinewidth": 0,
              "ticks": ""
             }
            },
            "type": "scatter3d"
           }
          ],
          "scattercarpet": [
           {
            "marker": {
             "colorbar": {
              "outlinewidth": 0,
              "ticks": ""
             }
            },
            "type": "scattercarpet"
           }
          ],
          "scattergeo": [
           {
            "marker": {
             "colorbar": {
              "outlinewidth": 0,
              "ticks": ""
             }
            },
            "type": "scattergeo"
           }
          ],
          "scattergl": [
           {
            "marker": {
             "colorbar": {
              "outlinewidth": 0,
              "ticks": ""
             }
            },
            "type": "scattergl"
           }
          ],
          "scattermapbox": [
           {
            "marker": {
             "colorbar": {
              "outlinewidth": 0,
              "ticks": ""
             }
            },
            "type": "scattermapbox"
           }
          ],
          "scatterpolar": [
           {
            "marker": {
             "colorbar": {
              "outlinewidth": 0,
              "ticks": ""
             }
            },
            "type": "scatterpolar"
           }
          ],
          "scatterpolargl": [
           {
            "marker": {
             "colorbar": {
              "outlinewidth": 0,
              "ticks": ""
             }
            },
            "type": "scatterpolargl"
           }
          ],
          "scatterternary": [
           {
            "marker": {
             "colorbar": {
              "outlinewidth": 0,
              "ticks": ""
             }
            },
            "type": "scatterternary"
           }
          ],
          "surface": [
           {
            "colorbar": {
             "outlinewidth": 0,
             "ticks": ""
            },
            "colorscale": [
             [
              0,
              "#0d0887"
             ],
             [
              0.1111111111111111,
              "#46039f"
             ],
             [
              0.2222222222222222,
              "#7201a8"
             ],
             [
              0.3333333333333333,
              "#9c179e"
             ],
             [
              0.4444444444444444,
              "#bd3786"
             ],
             [
              0.5555555555555556,
              "#d8576b"
             ],
             [
              0.6666666666666666,
              "#ed7953"
             ],
             [
              0.7777777777777778,
              "#fb9f3a"
             ],
             [
              0.8888888888888888,
              "#fdca26"
             ],
             [
              1,
              "#f0f921"
             ]
            ],
            "type": "surface"
           }
          ],
          "table": [
           {
            "cells": {
             "fill": {
              "color": "#EBF0F8"
             },
             "line": {
              "color": "white"
             }
            },
            "header": {
             "fill": {
              "color": "#C8D4E3"
             },
             "line": {
              "color": "white"
             }
            },
            "type": "table"
           }
          ]
         },
         "layout": {
          "annotationdefaults": {
           "arrowcolor": "#2a3f5f",
           "arrowhead": 0,
           "arrowwidth": 1
          },
          "autotypenumbers": "strict",
          "coloraxis": {
           "colorbar": {
            "outlinewidth": 0,
            "ticks": ""
           }
          },
          "colorscale": {
           "diverging": [
            [
             0,
             "#8e0152"
            ],
            [
             0.1,
             "#c51b7d"
            ],
            [
             0.2,
             "#de77ae"
            ],
            [
             0.3,
             "#f1b6da"
            ],
            [
             0.4,
             "#fde0ef"
            ],
            [
             0.5,
             "#f7f7f7"
            ],
            [
             0.6,
             "#e6f5d0"
            ],
            [
             0.7,
             "#b8e186"
            ],
            [
             0.8,
             "#7fbc41"
            ],
            [
             0.9,
             "#4d9221"
            ],
            [
             1,
             "#276419"
            ]
           ],
           "sequential": [
            [
             0,
             "#0d0887"
            ],
            [
             0.1111111111111111,
             "#46039f"
            ],
            [
             0.2222222222222222,
             "#7201a8"
            ],
            [
             0.3333333333333333,
             "#9c179e"
            ],
            [
             0.4444444444444444,
             "#bd3786"
            ],
            [
             0.5555555555555556,
             "#d8576b"
            ],
            [
             0.6666666666666666,
             "#ed7953"
            ],
            [
             0.7777777777777778,
             "#fb9f3a"
            ],
            [
             0.8888888888888888,
             "#fdca26"
            ],
            [
             1,
             "#f0f921"
            ]
           ],
           "sequentialminus": [
            [
             0,
             "#0d0887"
            ],
            [
             0.1111111111111111,
             "#46039f"
            ],
            [
             0.2222222222222222,
             "#7201a8"
            ],
            [
             0.3333333333333333,
             "#9c179e"
            ],
            [
             0.4444444444444444,
             "#bd3786"
            ],
            [
             0.5555555555555556,
             "#d8576b"
            ],
            [
             0.6666666666666666,
             "#ed7953"
            ],
            [
             0.7777777777777778,
             "#fb9f3a"
            ],
            [
             0.8888888888888888,
             "#fdca26"
            ],
            [
             1,
             "#f0f921"
            ]
           ]
          },
          "colorway": [
           "#636efa",
           "#EF553B",
           "#00cc96",
           "#ab63fa",
           "#FFA15A",
           "#19d3f3",
           "#FF6692",
           "#B6E880",
           "#FF97FF",
           "#FECB52"
          ],
          "font": {
           "color": "#2a3f5f"
          },
          "geo": {
           "bgcolor": "white",
           "lakecolor": "white",
           "landcolor": "#E5ECF6",
           "showlakes": true,
           "showland": true,
           "subunitcolor": "white"
          },
          "hoverlabel": {
           "align": "left"
          },
          "hovermode": "closest",
          "mapbox": {
           "style": "light"
          },
          "paper_bgcolor": "white",
          "plot_bgcolor": "#E5ECF6",
          "polar": {
           "angularaxis": {
            "gridcolor": "white",
            "linecolor": "white",
            "ticks": ""
           },
           "bgcolor": "#E5ECF6",
           "radialaxis": {
            "gridcolor": "white",
            "linecolor": "white",
            "ticks": ""
           }
          },
          "scene": {
           "xaxis": {
            "backgroundcolor": "#E5ECF6",
            "gridcolor": "white",
            "gridwidth": 2,
            "linecolor": "white",
            "showbackground": true,
            "ticks": "",
            "zerolinecolor": "white"
           },
           "yaxis": {
            "backgroundcolor": "#E5ECF6",
            "gridcolor": "white",
            "gridwidth": 2,
            "linecolor": "white",
            "showbackground": true,
            "ticks": "",
            "zerolinecolor": "white"
           },
           "zaxis": {
            "backgroundcolor": "#E5ECF6",
            "gridcolor": "white",
            "gridwidth": 2,
            "linecolor": "white",
            "showbackground": true,
            "ticks": "",
            "zerolinecolor": "white"
           }
          },
          "shapedefaults": {
           "line": {
            "color": "#2a3f5f"
           }
          },
          "ternary": {
           "aaxis": {
            "gridcolor": "white",
            "linecolor": "white",
            "ticks": ""
           },
           "baxis": {
            "gridcolor": "white",
            "linecolor": "white",
            "ticks": ""
           },
           "bgcolor": "#E5ECF6",
           "caxis": {
            "gridcolor": "white",
            "linecolor": "white",
            "ticks": ""
           }
          },
          "title": {
           "x": 0.05
          },
          "xaxis": {
           "automargin": true,
           "gridcolor": "white",
           "linecolor": "white",
           "ticks": "",
           "title": {
            "standoff": 15
           },
           "zerolinecolor": "white",
           "zerolinewidth": 2
          },
          "yaxis": {
           "automargin": true,
           "gridcolor": "white",
           "linecolor": "white",
           "ticks": "",
           "title": {
            "standoff": 15
           },
           "zerolinecolor": "white",
           "zerolinewidth": 2
          }
         }
        },
        "title": {
         "text": "Nombre d'objet perdu par type d'objet :"
        },
        "xaxis": {
         "anchor": "y",
         "domain": [
          0,
          1
         ],
         "title": {
          "text": "date"
         }
        },
        "yaxis": {
         "anchor": "x",
         "domain": [
          0,
          1
         ],
         "title": {
          "text": "nature_objet"
         }
        }
       }
      }
     },
     "metadata": {},
     "output_type": "display_data"
    }
   ],
   "source": [
    "px.scatter(evolution, x='date', y='nature_objet',\n",
    "            color='type_objet',\n",
    "            title=\"Nombre d'objet perdu par type d'objet :\"\n",
    ")"
   ]
  },
  {
   "cell_type": "code",
   "execution_count": 24,
   "metadata": {},
   "outputs": [
    {
     "data": {
      "text/html": [
       "<div>\n",
       "<style scoped>\n",
       "    .dataframe tbody tr th:only-of-type {\n",
       "        vertical-align: middle;\n",
       "    }\n",
       "\n",
       "    .dataframe tbody tr th {\n",
       "        vertical-align: top;\n",
       "    }\n",
       "\n",
       "    .dataframe thead th {\n",
       "        text-align: right;\n",
       "    }\n",
       "</style>\n",
       "<table border=\"1\" class=\"dataframe\">\n",
       "  <thead>\n",
       "    <tr style=\"text-align: right;\">\n",
       "      <th></th>\n",
       "      <th>id</th>\n",
       "      <th>type_objet</th>\n",
       "      <th>gare</th>\n",
       "      <th>nature_objet</th>\n",
       "    </tr>\n",
       "    <tr>\n",
       "      <th>date</th>\n",
       "      <th></th>\n",
       "      <th></th>\n",
       "      <th></th>\n",
       "      <th></th>\n",
       "    </tr>\n",
       "  </thead>\n",
       "  <tbody>\n",
       "    <tr>\n",
       "      <th>2017-12-31 22:25:22</th>\n",
       "      <td>0087484006</td>\n",
       "      <td>Vêtements, chaussures</td>\n",
       "      <td>Angers Saint-Laud</td>\n",
       "      <td>Foulard, écharpe</td>\n",
       "    </tr>\n",
       "    <tr>\n",
       "      <th>2017-12-31 21:22:31</th>\n",
       "      <td>0087484006</td>\n",
       "      <td>Pièces d'identités et papiers personnels</td>\n",
       "      <td>Angers Saint-Laud</td>\n",
       "      <td>Carte d'identité, passeport, permis de conduire</td>\n",
       "    </tr>\n",
       "    <tr>\n",
       "      <th>2017-12-31 20:59:09</th>\n",
       "      <td>0087485003</td>\n",
       "      <td>Divers</td>\n",
       "      <td>La Rochelle</td>\n",
       "      <td>Autres divers</td>\n",
       "    </tr>\n",
       "    <tr>\n",
       "      <th>2017-12-31 20:55:56</th>\n",
       "      <td>0087485003</td>\n",
       "      <td>Appareils électroniques, informatiques, appare...</td>\n",
       "      <td>La Rochelle</td>\n",
       "      <td>Appareil audio portable (lecteur de CD, balade...</td>\n",
       "    </tr>\n",
       "    <tr>\n",
       "      <th>2017-12-31 20:52:33</th>\n",
       "      <td>0087485003</td>\n",
       "      <td>Divers</td>\n",
       "      <td>La Rochelle</td>\n",
       "      <td>Autres divers</td>\n",
       "    </tr>\n",
       "    <tr>\n",
       "      <th>...</th>\n",
       "      <td>...</td>\n",
       "      <td>...</td>\n",
       "      <td>...</td>\n",
       "      <td>...</td>\n",
       "    </tr>\n",
       "    <tr>\n",
       "      <th>2021-12-01 07:24:00</th>\n",
       "      <td>0087683268</td>\n",
       "      <td>Articles médicaux</td>\n",
       "      <td>Laroche - Migennes</td>\n",
       "      <td>Radiographie</td>\n",
       "    </tr>\n",
       "    <tr>\n",
       "      <th>2021-12-01 07:11:54</th>\n",
       "      <td>0087212027</td>\n",
       "      <td>Bagagerie: sacs, valises, cartables</td>\n",
       "      <td>Strasbourg</td>\n",
       "      <td>Sac de voyage, sac de sport, sac à bandoulière</td>\n",
       "    </tr>\n",
       "    <tr>\n",
       "      <th>2021-12-01 05:44:51</th>\n",
       "      <td>0087411017</td>\n",
       "      <td>Clés, porte-clés, badge magnétique</td>\n",
       "      <td>Rouen Rive Droite</td>\n",
       "      <td>Clés, porte-clés</td>\n",
       "    </tr>\n",
       "    <tr>\n",
       "      <th>2021-12-01 05:25:12</th>\n",
       "      <td>0087723197</td>\n",
       "      <td>Appareils électroniques, informatiques, appare...</td>\n",
       "      <td>Lyon Part Dieu</td>\n",
       "      <td>AirPod, casque audio, écouteurs</td>\n",
       "    </tr>\n",
       "    <tr>\n",
       "      <th>2021-12-01 05:17:06</th>\n",
       "      <td>0087723197</td>\n",
       "      <td>Clés, porte-clés, badge magnétique</td>\n",
       "      <td>Lyon Part Dieu</td>\n",
       "      <td>Clé de voiture</td>\n",
       "    </tr>\n",
       "  </tbody>\n",
       "</table>\n",
       "<p>295171 rows × 4 columns</p>\n",
       "</div>"
      ],
      "text/plain": [
       "                             id  \\\n",
       "date                              \n",
       "2017-12-31 22:25:22  0087484006   \n",
       "2017-12-31 21:22:31  0087484006   \n",
       "2017-12-31 20:59:09  0087485003   \n",
       "2017-12-31 20:55:56  0087485003   \n",
       "2017-12-31 20:52:33  0087485003   \n",
       "...                         ...   \n",
       "2021-12-01 07:24:00  0087683268   \n",
       "2021-12-01 07:11:54  0087212027   \n",
       "2021-12-01 05:44:51  0087411017   \n",
       "2021-12-01 05:25:12  0087723197   \n",
       "2021-12-01 05:17:06  0087723197   \n",
       "\n",
       "                                                            type_objet  \\\n",
       "date                                                                     \n",
       "2017-12-31 22:25:22                              Vêtements, chaussures   \n",
       "2017-12-31 21:22:31           Pièces d'identités et papiers personnels   \n",
       "2017-12-31 20:59:09                                             Divers   \n",
       "2017-12-31 20:55:56  Appareils électroniques, informatiques, appare...   \n",
       "2017-12-31 20:52:33                                             Divers   \n",
       "...                                                                ...   \n",
       "2021-12-01 07:24:00                                  Articles médicaux   \n",
       "2021-12-01 07:11:54                Bagagerie: sacs, valises, cartables   \n",
       "2021-12-01 05:44:51                 Clés, porte-clés, badge magnétique   \n",
       "2021-12-01 05:25:12  Appareils électroniques, informatiques, appare...   \n",
       "2021-12-01 05:17:06                 Clés, porte-clés, badge magnétique   \n",
       "\n",
       "                                   gare  \\\n",
       "date                                      \n",
       "2017-12-31 22:25:22   Angers Saint-Laud   \n",
       "2017-12-31 21:22:31   Angers Saint-Laud   \n",
       "2017-12-31 20:59:09         La Rochelle   \n",
       "2017-12-31 20:55:56         La Rochelle   \n",
       "2017-12-31 20:52:33         La Rochelle   \n",
       "...                                 ...   \n",
       "2021-12-01 07:24:00  Laroche - Migennes   \n",
       "2021-12-01 07:11:54          Strasbourg   \n",
       "2021-12-01 05:44:51   Rouen Rive Droite   \n",
       "2021-12-01 05:25:12      Lyon Part Dieu   \n",
       "2021-12-01 05:17:06      Lyon Part Dieu   \n",
       "\n",
       "                                                          nature_objet  \n",
       "date                                                                    \n",
       "2017-12-31 22:25:22                                   Foulard, écharpe  \n",
       "2017-12-31 21:22:31    Carte d'identité, passeport, permis de conduire  \n",
       "2017-12-31 20:59:09                                      Autres divers  \n",
       "2017-12-31 20:55:56  Appareil audio portable (lecteur de CD, balade...  \n",
       "2017-12-31 20:52:33                                      Autres divers  \n",
       "...                                                                ...  \n",
       "2021-12-01 07:24:00                                       Radiographie  \n",
       "2021-12-01 07:11:54     Sac de voyage, sac de sport, sac à bandoulière  \n",
       "2021-12-01 05:44:51                                   Clés, porte-clés  \n",
       "2021-12-01 05:25:12                    AirPod, casque audio, écouteurs  \n",
       "2021-12-01 05:17:06                                     Clé de voiture  \n",
       "\n",
       "[295171 rows x 4 columns]"
      ]
     },
     "execution_count": 24,
     "metadata": {},
     "output_type": "execute_result"
    }
   ],
   "source": [
    "objets_perdus"
   ]
  },
  {
   "cell_type": "code",
   "execution_count": 23,
   "metadata": {},
   "outputs": [
    {
     "data": {
      "text/html": [
       "<div>\n",
       "<style scoped>\n",
       "    .dataframe tbody tr th:only-of-type {\n",
       "        vertical-align: middle;\n",
       "    }\n",
       "\n",
       "    .dataframe tbody tr th {\n",
       "        vertical-align: top;\n",
       "    }\n",
       "\n",
       "    .dataframe thead th {\n",
       "        text-align: right;\n",
       "    }\n",
       "</style>\n",
       "<table border=\"1\" class=\"dataframe\">\n",
       "  <thead>\n",
       "    <tr style=\"text-align: right;\">\n",
       "      <th></th>\n",
       "      <th>id_gare</th>\n",
       "      <th>code_postal</th>\n",
       "      <th>nom_gare</th>\n",
       "      <th>region</th>\n",
       "      <th>voyageurs_2016</th>\n",
       "      <th>voyageurs_2017</th>\n",
       "      <th>voyageurs_2018</th>\n",
       "      <th>voyageurs_2019</th>\n",
       "      <th>voyageurs_2020</th>\n",
       "      <th>voyageurs_2021</th>\n",
       "    </tr>\n",
       "  </thead>\n",
       "  <tbody>\n",
       "    <tr>\n",
       "      <th>0</th>\n",
       "      <td>87313759</td>\n",
       "      <td>60220</td>\n",
       "      <td>Abancourt</td>\n",
       "      <td>60</td>\n",
       "      <td>82192</td>\n",
       "      <td>87520</td>\n",
       "      <td>80456</td>\n",
       "      <td>85370</td>\n",
       "      <td>64792</td>\n",
       "      <td>103622</td>\n",
       "    </tr>\n",
       "    <tr>\n",
       "      <th>1</th>\n",
       "      <td>87381657</td>\n",
       "      <td>78260</td>\n",
       "      <td>Achères Ville</td>\n",
       "      <td>78</td>\n",
       "      <td>6909134</td>\n",
       "      <td>6995230</td>\n",
       "      <td>6957718</td>\n",
       "      <td>6936416</td>\n",
       "      <td>3195034</td>\n",
       "      <td>4901110</td>\n",
       "    </tr>\n",
       "    <tr>\n",
       "      <th>2</th>\n",
       "      <td>87781278</td>\n",
       "      <td>34300</td>\n",
       "      <td>Agde</td>\n",
       "      <td>34</td>\n",
       "      <td>1486476</td>\n",
       "      <td>1568455</td>\n",
       "      <td>1323669</td>\n",
       "      <td>1220148</td>\n",
       "      <td>887355</td>\n",
       "      <td>1262610</td>\n",
       "    </tr>\n",
       "    <tr>\n",
       "      <th>3</th>\n",
       "      <td>87741421</td>\n",
       "      <td>73610</td>\n",
       "      <td>Aiguebelette-le-Lac</td>\n",
       "      <td>73</td>\n",
       "      <td>7824</td>\n",
       "      <td>6234</td>\n",
       "      <td>5070</td>\n",
       "      <td>9508</td>\n",
       "      <td>5842</td>\n",
       "      <td>7316</td>\n",
       "    </tr>\n",
       "    <tr>\n",
       "      <th>4</th>\n",
       "      <td>87586693</td>\n",
       "      <td>47190</td>\n",
       "      <td>Aiguillon</td>\n",
       "      <td>47</td>\n",
       "      <td>180374</td>\n",
       "      <td>193818</td>\n",
       "      <td>185380</td>\n",
       "      <td>218188</td>\n",
       "      <td>179232</td>\n",
       "      <td>213528</td>\n",
       "    </tr>\n",
       "    <tr>\n",
       "      <th>...</th>\n",
       "      <td>...</td>\n",
       "      <td>...</td>\n",
       "      <td>...</td>\n",
       "      <td>...</td>\n",
       "      <td>...</td>\n",
       "      <td>...</td>\n",
       "      <td>...</td>\n",
       "      <td>...</td>\n",
       "      <td>...</td>\n",
       "      <td>...</td>\n",
       "    </tr>\n",
       "    <tr>\n",
       "      <th>213835</th>\n",
       "      <td>87473116</td>\n",
       "      <td>22120</td>\n",
       "      <td>Yffiniac</td>\n",
       "      <td>22</td>\n",
       "      <td>78376</td>\n",
       "      <td>66444</td>\n",
       "      <td>55822</td>\n",
       "      <td>57568</td>\n",
       "      <td>38132</td>\n",
       "      <td>44048</td>\n",
       "    </tr>\n",
       "    <tr>\n",
       "      <th>213836</th>\n",
       "      <td>87671487</td>\n",
       "      <td>40100</td>\n",
       "      <td>Ygos-Saint-Saturnin</td>\n",
       "      <td>40</td>\n",
       "      <td>54584</td>\n",
       "      <td>59686</td>\n",
       "      <td>52406</td>\n",
       "      <td>49688</td>\n",
       "      <td>48516</td>\n",
       "      <td>65706</td>\n",
       "    </tr>\n",
       "    <tr>\n",
       "      <th>213837</th>\n",
       "      <td>87645101</td>\n",
       "      <td>15130</td>\n",
       "      <td>Ytrac</td>\n",
       "      <td>15</td>\n",
       "      <td>68</td>\n",
       "      <td>50</td>\n",
       "      <td>52</td>\n",
       "      <td>98</td>\n",
       "      <td>34</td>\n",
       "      <td>74</td>\n",
       "    </tr>\n",
       "    <tr>\n",
       "      <th>213838</th>\n",
       "      <td>87191304</td>\n",
       "      <td>57110</td>\n",
       "      <td>Yutz</td>\n",
       "      <td>57</td>\n",
       "      <td>3860</td>\n",
       "      <td>2600</td>\n",
       "      <td>2968</td>\n",
       "      <td>2372</td>\n",
       "      <td>1608</td>\n",
       "      <td>1746</td>\n",
       "    </tr>\n",
       "    <tr>\n",
       "      <th>213839</th>\n",
       "      <td>87413385</td>\n",
       "      <td>76190</td>\n",
       "      <td>Yvetot</td>\n",
       "      <td>76</td>\n",
       "      <td>2045776</td>\n",
       "      <td>2070263</td>\n",
       "      <td>2031589</td>\n",
       "      <td>2243626</td>\n",
       "      <td>1547037</td>\n",
       "      <td>1772083</td>\n",
       "    </tr>\n",
       "  </tbody>\n",
       "</table>\n",
       "<p>213840 rows × 10 columns</p>\n",
       "</div>"
      ],
      "text/plain": [
       "         id_gare code_postal             nom_gare region  voyageurs_2016  \\\n",
       "0       87313759       60220            Abancourt     60           82192   \n",
       "1       87381657       78260        Achères Ville     78         6909134   \n",
       "2       87781278       34300                 Agde     34         1486476   \n",
       "3       87741421       73610  Aiguebelette-le-Lac     73            7824   \n",
       "4       87586693       47190            Aiguillon     47          180374   \n",
       "...          ...         ...                  ...    ...             ...   \n",
       "213835  87473116       22120             Yffiniac     22           78376   \n",
       "213836  87671487       40100  Ygos-Saint-Saturnin     40           54584   \n",
       "213837  87645101       15130                Ytrac     15              68   \n",
       "213838  87191304       57110                 Yutz     57            3860   \n",
       "213839  87413385       76190               Yvetot     76         2045776   \n",
       "\n",
       "        voyageurs_2017  voyageurs_2018  voyageurs_2019  voyageurs_2020  \\\n",
       "0                87520           80456           85370           64792   \n",
       "1              6995230         6957718         6936416         3195034   \n",
       "2              1568455         1323669         1220148          887355   \n",
       "3                 6234            5070            9508            5842   \n",
       "4               193818          185380          218188          179232   \n",
       "...                ...             ...             ...             ...   \n",
       "213835           66444           55822           57568           38132   \n",
       "213836           59686           52406           49688           48516   \n",
       "213837              50              52              98              34   \n",
       "213838            2600            2968            2372            1608   \n",
       "213839         2070263         2031589         2243626         1547037   \n",
       "\n",
       "        voyageurs_2021  \n",
       "0               103622  \n",
       "1              4901110  \n",
       "2              1262610  \n",
       "3                 7316  \n",
       "4               213528  \n",
       "...                ...  \n",
       "213835           44048  \n",
       "213836           65706  \n",
       "213837              74  \n",
       "213838            1746  \n",
       "213839         1772083  \n",
       "\n",
       "[213840 rows x 10 columns]"
      ]
     },
     "execution_count": 23,
     "metadata": {},
     "output_type": "execute_result"
    }
   ],
   "source": [
    "frequentations "
   ]
  },
  {
   "cell_type": "code",
   "execution_count": null,
   "metadata": {},
   "outputs": [],
   "source": []
  },
  {
   "cell_type": "code",
   "execution_count": null,
   "metadata": {},
   "outputs": [],
   "source": []
  },
  {
   "cell_type": "code",
   "execution_count": null,
   "metadata": {},
   "outputs": [],
   "source": []
  },
  {
   "cell_type": "code",
   "execution_count": null,
   "metadata": {},
   "outputs": [],
   "source": []
  },
  {
   "cell_type": "code",
   "execution_count": null,
   "metadata": {},
   "outputs": [],
   "source": []
  },
  {
   "cell_type": "code",
   "execution_count": null,
   "metadata": {},
   "outputs": [],
   "source": []
  }
 ],
 "metadata": {
  "kernelspec": {
   "display_name": "sncf",
   "language": "python",
   "name": "python3"
  },
  "language_info": {
   "codemirror_mode": {
    "name": "ipython",
    "version": 3
   },
   "file_extension": ".py",
   "mimetype": "text/x-python",
   "name": "python",
   "nbconvert_exporter": "python",
   "pygments_lexer": "ipython3",
   "version": "3.10.8 (main, Nov 24 2022, 14:13:03) [GCC 11.2.0]"
  },
  "orig_nbformat": 4,
  "vscode": {
   "interpreter": {
    "hash": "5a8a776af5ee9607901614d4ac672660bf7f520618d22c02367a84dda31039bf"
   }
  }
 },
 "nbformat": 4,
 "nbformat_minor": 2
}
