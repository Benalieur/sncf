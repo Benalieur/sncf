{
 "cells": [
  {
   "cell_type": "code",
   "execution_count": 4,
   "metadata": {},
   "outputs": [],
   "source": [
    "import requests"
   ]
  },
  {
   "cell_type": "code",
   "execution_count": null,
   "metadata": {},
   "outputs": [],
   "source": [
    "URL = \"https://public.opendatasoft.com/api/records/1.0/search/?\"\n",
    "\n",
    "\n",
    "params = {\n",
    "    \"dataset\" : \"donnees-synop-essentielles-omm\",\n",
    "    \"rows\" : \"-1\",\n",
    "    \"sort\":[\"date\"],\n",
    "    \"facet\": [\"nom\"],\n",
    "    \"facet\":[\"temps_present\"]\n",
    "}\n",
    "\n",
    "response = requests.get(URL, params = params)\n",
    "\n",
    "data = response.json()\n",
    "data"
   ]
  },
  {
   "cell_type": "code",
   "execution_count": null,
   "metadata": {},
   "outputs": [],
   "source": [
    "for i in range(len(data)):\n",
    "    print(data[\"records\"][i][\"fields\"][\"date\"],data[\"records\"][i][\"fields\"][\"nom\"], data[\"records\"][i][\"fields\"][\"t\"])"
   ]
  },
  {
   "cell_type": "code",
   "execution_count": 13,
   "metadata": {},
   "outputs": [],
   "source": [
    "list_data = []\n",
    "\n",
    "for annee in range (2016, 2022):\n",
    "    for mois in range(1,13):\n",
    "        # for jours in range(1,32):\n",
    "            params['refine.date'] = str(annee) + \"/\" + str(mois) \n",
    "\n",
    "            response = requests.get(URL, params = params)\n",
    "\n",
    "            data = response.json()\n",
    "\n",
    "            for record in data[\"records\"]:\n",
    "                \n",
    "                list_data.append(record)"
   ]
  },
  {
   "cell_type": "code",
   "execution_count": 14,
   "metadata": {},
   "outputs": [
    {
     "data": {
      "text/plain": [
       "120000"
      ]
     },
     "execution_count": 14,
     "metadata": {},
     "output_type": "execute_result"
    }
   ],
   "source": [
    "len(list_data)"
   ]
  },
  {
   "cell_type": "code",
   "execution_count": null,
   "metadata": {},
   "outputs": [],
   "source": []
  }
 ],
 "metadata": {
  "kernelspec": {
   "display_name": "sncf",
   "language": "python",
   "name": "python3"
  },
  "language_info": {
   "codemirror_mode": {
    "name": "ipython",
    "version": 3
   },
   "file_extension": ".py",
   "mimetype": "text/x-python",
   "name": "python",
   "nbconvert_exporter": "python",
   "pygments_lexer": "ipython3",
   "version": "3.10.8 (main, Nov 24 2022, 14:13:03) [GCC 11.2.0]"
  },
  "orig_nbformat": 4,
  "vscode": {
   "interpreter": {
    "hash": "5a8a776af5ee9607901614d4ac672660bf7f520618d22c02367a84dda31039bf"
   }
  }
 },
 "nbformat": 4,
 "nbformat_minor": 2
}
